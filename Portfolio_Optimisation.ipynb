{
  "nbformat": 4,
  "nbformat_minor": 0,
  "metadata": {
    "colab": {
      "provenance": []
    },
    "kernelspec": {
      "name": "python3",
      "display_name": "Python 3"
    },
    "language_info": {
      "name": "python"
    }
  },
  "cells": [
    {
      "cell_type": "markdown",
      "source": [
        "<h1><center> Portfolio Optimization </center></h1>\n",
        "<h4><center> Anthony Li </center></h4>\n",
        "<h4><center> September 2023 </center></h4>"
      ],
      "metadata": {
        "id": "boZ9_5VQrojA"
      }
    },
    {
      "cell_type": "markdown",
      "source": [
        "## Introduction\n",
        "Portfolio optimization is a fundamental concept in finance that involves designing an investment portfolio with the goal of achieving the best possible trade-off between risk and return. There have been many techniques and studies in this area. The most popular methods involve maximizing sharpe ratio, minimising variance, and portfolio efficient frontiers.\n",
        "\n",
        "In this project, the focus is to explore different methods to calculate the optimal portfolio weights across the SP500 component stocks. We will fix the rebalancing frequency to monthly across all methods and use a 12 month training period.\n",
        "\n",
        "We will use daily returns for calculating the expected return for each stock and the covariance matrix. For calculating the monthly returns of the portfolio, we will used the monthly returns for each stock. The monthly returns are calculated as the percentage change between the last trading days of each month.\n",
        "\n"
      ],
      "metadata": {
        "id": "pAPB46i3r1mA"
      }
    },
    {
      "cell_type": "markdown",
      "source": [
        "## Libraries and Data Preprocessing"
      ],
      "metadata": {
        "id": "8sgBPGMv9WoE"
      }
    },
    {
      "cell_type": "code",
      "source": [
        "# Importing Libraries\n",
        "import statsmodels.api as sm\n",
        "import pandas as pd\n",
        "import numpy as np\n",
        "import yfinance as yf\n",
        "import matplotlib.pyplot as plt\n",
        "# Import optimization libraries\n",
        "from scipy.optimize import minimize"
      ],
      "metadata": {
        "id": "vMMXDkH5_UsK"
      },
      "execution_count": 141,
      "outputs": []
    },
    {
      "cell_type": "code",
      "source": [
        "# Connecting Google Collaboratory to Google Drive folder\n",
        "from google.colab import drive\n",
        "drive.mount('/content/gdrive')\n",
        "\n",
        "import os\n",
        "os.chdir(\"./gdrive/My Drive/Quantitative Finance Projects/Statistical Arbitrage Trading Strategy/\")"
      ],
      "metadata": {
        "colab": {
          "base_uri": "https://localhost:8080/",
          "height": 227
        },
        "id": "1LBmxa2y_YDL",
        "outputId": "9393e395-b677-41cf-f86d-514eaf6b9dc2"
      },
      "execution_count": 41,
      "outputs": [
        {
          "output_type": "stream",
          "name": "stdout",
          "text": [
            "Drive already mounted at /content/gdrive; to attempt to forcibly remount, call drive.mount(\"/content/gdrive\", force_remount=True).\n"
          ]
        },
        {
          "output_type": "error",
          "ename": "FileNotFoundError",
          "evalue": "ignored",
          "traceback": [
            "\u001b[0;31m---------------------------------------------------------------------------\u001b[0m",
            "\u001b[0;31mFileNotFoundError\u001b[0m                         Traceback (most recent call last)",
            "\u001b[0;32m<ipython-input-41-bcf70b5cbaaf>\u001b[0m in \u001b[0;36m<cell line: 6>\u001b[0;34m()\u001b[0m\n\u001b[1;32m      4\u001b[0m \u001b[0;34m\u001b[0m\u001b[0m\n\u001b[1;32m      5\u001b[0m \u001b[0;32mimport\u001b[0m \u001b[0mos\u001b[0m\u001b[0;34m\u001b[0m\u001b[0;34m\u001b[0m\u001b[0m\n\u001b[0;32m----> 6\u001b[0;31m \u001b[0mos\u001b[0m\u001b[0;34m.\u001b[0m\u001b[0mchdir\u001b[0m\u001b[0;34m(\u001b[0m\u001b[0;34m\"./gdrive/My Drive/Quantitative Finance Projects/Statistical Arbitrage Trading Strategy/\"\u001b[0m\u001b[0;34m)\u001b[0m\u001b[0;34m\u001b[0m\u001b[0;34m\u001b[0m\u001b[0m\n\u001b[0m",
            "\u001b[0;31mFileNotFoundError\u001b[0m: [Errno 2] No such file or directory: './gdrive/My Drive/Quantitative Finance Projects/Statistical Arbitrage Trading Strategy/'"
          ]
        }
      ]
    },
    {
      "cell_type": "code",
      "source": [
        "# Importing .csv of the prices of all stocks in the S&P500\n",
        "Prices = pd.read_csv(\"price.csv\", index_col=0)\n",
        "\n",
        "# For simplicity, dropping all stocks that have any NaN\n",
        "Prices =Prices.dropna(axis=1)\n",
        "\n",
        "Prices.head()"
      ],
      "metadata": {
        "colab": {
          "base_uri": "https://localhost:8080/",
          "height": 267
        },
        "id": "87Izifti_ZOZ",
        "outputId": "f4250932-c28b-46d9-e45f-d1c8fd84f5f2"
      },
      "execution_count": 143,
      "outputs": [
        {
          "output_type": "execute_result",
          "data": {
            "text/plain": [
              "                    A       AAL        AAP      AAPL        ABC        ABT  \\\n",
              "Date                                                                         \n",
              "2010-01-04  20.434929  4.496876  38.432693  6.572423  22.101795  19.778837   \n",
              "2010-01-05  20.212959  5.005957  38.204258  6.583786  21.944103  19.619041   \n",
              "2010-01-06  20.141132  4.798555  38.537392  6.479064  21.736616  19.727999   \n",
              "2010-01-07  20.115025  4.939965  38.527885  6.467087  21.388039  19.891426   \n",
              "2010-01-08  20.108498  4.845690  38.680153  6.510081  21.620419  19.993120   \n",
              "\n",
              "                ACGL        ACN       ADBE        ADI  ...        WTW  \\\n",
              "Date                                                   ...              \n",
              "2010-01-04  7.994444  32.970871  37.090000  23.694084  ...  70.913910   \n",
              "2010-01-05  7.967778  33.174648  37.700001  23.656675  ...  70.754967   \n",
              "2010-01-06  7.933333  33.527321  37.619999  23.611784  ...  71.894043   \n",
              "2010-01-07  7.886667  33.495968  36.889999  23.424749  ...  71.682121   \n",
              "2010-01-08  7.871111  33.362751  36.689999  23.559416  ...  71.602646   \n",
              "\n",
              "                   WY       WYNN        XEL        XOM       XRAY        YUM  \\\n",
              "Date                                                                           \n",
              "2010-01-04  28.994482  41.963718  13.932555  43.185623  32.782581  19.900911   \n",
              "2010-01-05  29.609983  44.515926  13.767320  43.354244  32.392876  19.832848   \n",
              "2010-01-06  29.282593  43.932011  13.793758  43.728970  32.606281  19.691063   \n",
              "2010-01-07  29.151625  44.870213  13.734278  43.591564  33.033108  19.685392   \n",
              "2010-01-08  28.883154  44.548744  13.740885  43.416687  33.033108  19.691063   \n",
              "\n",
              "                  ZBH       ZBRA       ZION  \n",
              "Date                                         \n",
              "2010-01-04  53.282867  28.670000  11.580979  \n",
              "2010-01-05  54.969589  28.620001  11.989312  \n",
              "2010-01-06  54.951843  28.400000  13.031859  \n",
              "2010-01-07  56.212440  27.690001  14.491426  \n",
              "2010-01-08  55.031742  27.600000  14.256856  \n",
              "\n",
              "[5 rows x 438 columns]"
            ],
            "text/html": [
              "\n",
              "  <div id=\"df-117d6997-5e7d-4c1a-a235-2d4dfe5dea73\" class=\"colab-df-container\">\n",
              "    <div>\n",
              "<style scoped>\n",
              "    .dataframe tbody tr th:only-of-type {\n",
              "        vertical-align: middle;\n",
              "    }\n",
              "\n",
              "    .dataframe tbody tr th {\n",
              "        vertical-align: top;\n",
              "    }\n",
              "\n",
              "    .dataframe thead th {\n",
              "        text-align: right;\n",
              "    }\n",
              "</style>\n",
              "<table border=\"1\" class=\"dataframe\">\n",
              "  <thead>\n",
              "    <tr style=\"text-align: right;\">\n",
              "      <th></th>\n",
              "      <th>A</th>\n",
              "      <th>AAL</th>\n",
              "      <th>AAP</th>\n",
              "      <th>AAPL</th>\n",
              "      <th>ABC</th>\n",
              "      <th>ABT</th>\n",
              "      <th>ACGL</th>\n",
              "      <th>ACN</th>\n",
              "      <th>ADBE</th>\n",
              "      <th>ADI</th>\n",
              "      <th>...</th>\n",
              "      <th>WTW</th>\n",
              "      <th>WY</th>\n",
              "      <th>WYNN</th>\n",
              "      <th>XEL</th>\n",
              "      <th>XOM</th>\n",
              "      <th>XRAY</th>\n",
              "      <th>YUM</th>\n",
              "      <th>ZBH</th>\n",
              "      <th>ZBRA</th>\n",
              "      <th>ZION</th>\n",
              "    </tr>\n",
              "    <tr>\n",
              "      <th>Date</th>\n",
              "      <th></th>\n",
              "      <th></th>\n",
              "      <th></th>\n",
              "      <th></th>\n",
              "      <th></th>\n",
              "      <th></th>\n",
              "      <th></th>\n",
              "      <th></th>\n",
              "      <th></th>\n",
              "      <th></th>\n",
              "      <th></th>\n",
              "      <th></th>\n",
              "      <th></th>\n",
              "      <th></th>\n",
              "      <th></th>\n",
              "      <th></th>\n",
              "      <th></th>\n",
              "      <th></th>\n",
              "      <th></th>\n",
              "      <th></th>\n",
              "      <th></th>\n",
              "    </tr>\n",
              "  </thead>\n",
              "  <tbody>\n",
              "    <tr>\n",
              "      <th>2010-01-04</th>\n",
              "      <td>20.434929</td>\n",
              "      <td>4.496876</td>\n",
              "      <td>38.432693</td>\n",
              "      <td>6.572423</td>\n",
              "      <td>22.101795</td>\n",
              "      <td>19.778837</td>\n",
              "      <td>7.994444</td>\n",
              "      <td>32.970871</td>\n",
              "      <td>37.090000</td>\n",
              "      <td>23.694084</td>\n",
              "      <td>...</td>\n",
              "      <td>70.913910</td>\n",
              "      <td>28.994482</td>\n",
              "      <td>41.963718</td>\n",
              "      <td>13.932555</td>\n",
              "      <td>43.185623</td>\n",
              "      <td>32.782581</td>\n",
              "      <td>19.900911</td>\n",
              "      <td>53.282867</td>\n",
              "      <td>28.670000</td>\n",
              "      <td>11.580979</td>\n",
              "    </tr>\n",
              "    <tr>\n",
              "      <th>2010-01-05</th>\n",
              "      <td>20.212959</td>\n",
              "      <td>5.005957</td>\n",
              "      <td>38.204258</td>\n",
              "      <td>6.583786</td>\n",
              "      <td>21.944103</td>\n",
              "      <td>19.619041</td>\n",
              "      <td>7.967778</td>\n",
              "      <td>33.174648</td>\n",
              "      <td>37.700001</td>\n",
              "      <td>23.656675</td>\n",
              "      <td>...</td>\n",
              "      <td>70.754967</td>\n",
              "      <td>29.609983</td>\n",
              "      <td>44.515926</td>\n",
              "      <td>13.767320</td>\n",
              "      <td>43.354244</td>\n",
              "      <td>32.392876</td>\n",
              "      <td>19.832848</td>\n",
              "      <td>54.969589</td>\n",
              "      <td>28.620001</td>\n",
              "      <td>11.989312</td>\n",
              "    </tr>\n",
              "    <tr>\n",
              "      <th>2010-01-06</th>\n",
              "      <td>20.141132</td>\n",
              "      <td>4.798555</td>\n",
              "      <td>38.537392</td>\n",
              "      <td>6.479064</td>\n",
              "      <td>21.736616</td>\n",
              "      <td>19.727999</td>\n",
              "      <td>7.933333</td>\n",
              "      <td>33.527321</td>\n",
              "      <td>37.619999</td>\n",
              "      <td>23.611784</td>\n",
              "      <td>...</td>\n",
              "      <td>71.894043</td>\n",
              "      <td>29.282593</td>\n",
              "      <td>43.932011</td>\n",
              "      <td>13.793758</td>\n",
              "      <td>43.728970</td>\n",
              "      <td>32.606281</td>\n",
              "      <td>19.691063</td>\n",
              "      <td>54.951843</td>\n",
              "      <td>28.400000</td>\n",
              "      <td>13.031859</td>\n",
              "    </tr>\n",
              "    <tr>\n",
              "      <th>2010-01-07</th>\n",
              "      <td>20.115025</td>\n",
              "      <td>4.939965</td>\n",
              "      <td>38.527885</td>\n",
              "      <td>6.467087</td>\n",
              "      <td>21.388039</td>\n",
              "      <td>19.891426</td>\n",
              "      <td>7.886667</td>\n",
              "      <td>33.495968</td>\n",
              "      <td>36.889999</td>\n",
              "      <td>23.424749</td>\n",
              "      <td>...</td>\n",
              "      <td>71.682121</td>\n",
              "      <td>29.151625</td>\n",
              "      <td>44.870213</td>\n",
              "      <td>13.734278</td>\n",
              "      <td>43.591564</td>\n",
              "      <td>33.033108</td>\n",
              "      <td>19.685392</td>\n",
              "      <td>56.212440</td>\n",
              "      <td>27.690001</td>\n",
              "      <td>14.491426</td>\n",
              "    </tr>\n",
              "    <tr>\n",
              "      <th>2010-01-08</th>\n",
              "      <td>20.108498</td>\n",
              "      <td>4.845690</td>\n",
              "      <td>38.680153</td>\n",
              "      <td>6.510081</td>\n",
              "      <td>21.620419</td>\n",
              "      <td>19.993120</td>\n",
              "      <td>7.871111</td>\n",
              "      <td>33.362751</td>\n",
              "      <td>36.689999</td>\n",
              "      <td>23.559416</td>\n",
              "      <td>...</td>\n",
              "      <td>71.602646</td>\n",
              "      <td>28.883154</td>\n",
              "      <td>44.548744</td>\n",
              "      <td>13.740885</td>\n",
              "      <td>43.416687</td>\n",
              "      <td>33.033108</td>\n",
              "      <td>19.691063</td>\n",
              "      <td>55.031742</td>\n",
              "      <td>27.600000</td>\n",
              "      <td>14.256856</td>\n",
              "    </tr>\n",
              "  </tbody>\n",
              "</table>\n",
              "<p>5 rows × 438 columns</p>\n",
              "</div>\n",
              "    <div class=\"colab-df-buttons\">\n",
              "\n",
              "  <div class=\"colab-df-container\">\n",
              "    <button class=\"colab-df-convert\" onclick=\"convertToInteractive('df-117d6997-5e7d-4c1a-a235-2d4dfe5dea73')\"\n",
              "            title=\"Convert this dataframe to an interactive table.\"\n",
              "            style=\"display:none;\">\n",
              "\n",
              "  <svg xmlns=\"http://www.w3.org/2000/svg\" height=\"24px\" viewBox=\"0 -960 960 960\">\n",
              "    <path d=\"M120-120v-720h720v720H120Zm60-500h600v-160H180v160Zm220 220h160v-160H400v160Zm0 220h160v-160H400v160ZM180-400h160v-160H180v160Zm440 0h160v-160H620v160ZM180-180h160v-160H180v160Zm440 0h160v-160H620v160Z\"/>\n",
              "  </svg>\n",
              "    </button>\n",
              "\n",
              "  <style>\n",
              "    .colab-df-container {\n",
              "      display:flex;\n",
              "      gap: 12px;\n",
              "    }\n",
              "\n",
              "    .colab-df-convert {\n",
              "      background-color: #E8F0FE;\n",
              "      border: none;\n",
              "      border-radius: 50%;\n",
              "      cursor: pointer;\n",
              "      display: none;\n",
              "      fill: #1967D2;\n",
              "      height: 32px;\n",
              "      padding: 0 0 0 0;\n",
              "      width: 32px;\n",
              "    }\n",
              "\n",
              "    .colab-df-convert:hover {\n",
              "      background-color: #E2EBFA;\n",
              "      box-shadow: 0px 1px 2px rgba(60, 64, 67, 0.3), 0px 1px 3px 1px rgba(60, 64, 67, 0.15);\n",
              "      fill: #174EA6;\n",
              "    }\n",
              "\n",
              "    .colab-df-buttons div {\n",
              "      margin-bottom: 4px;\n",
              "    }\n",
              "\n",
              "    [theme=dark] .colab-df-convert {\n",
              "      background-color: #3B4455;\n",
              "      fill: #D2E3FC;\n",
              "    }\n",
              "\n",
              "    [theme=dark] .colab-df-convert:hover {\n",
              "      background-color: #434B5C;\n",
              "      box-shadow: 0px 1px 3px 1px rgba(0, 0, 0, 0.15);\n",
              "      filter: drop-shadow(0px 1px 2px rgba(0, 0, 0, 0.3));\n",
              "      fill: #FFFFFF;\n",
              "    }\n",
              "  </style>\n",
              "\n",
              "    <script>\n",
              "      const buttonEl =\n",
              "        document.querySelector('#df-117d6997-5e7d-4c1a-a235-2d4dfe5dea73 button.colab-df-convert');\n",
              "      buttonEl.style.display =\n",
              "        google.colab.kernel.accessAllowed ? 'block' : 'none';\n",
              "\n",
              "      async function convertToInteractive(key) {\n",
              "        const element = document.querySelector('#df-117d6997-5e7d-4c1a-a235-2d4dfe5dea73');\n",
              "        const dataTable =\n",
              "          await google.colab.kernel.invokeFunction('convertToInteractive',\n",
              "                                                    [key], {});\n",
              "        if (!dataTable) return;\n",
              "\n",
              "        const docLinkHtml = 'Like what you see? Visit the ' +\n",
              "          '<a target=\"_blank\" href=https://colab.research.google.com/notebooks/data_table.ipynb>data table notebook</a>'\n",
              "          + ' to learn more about interactive tables.';\n",
              "        element.innerHTML = '';\n",
              "        dataTable['output_type'] = 'display_data';\n",
              "        await google.colab.output.renderOutput(dataTable, element);\n",
              "        const docLink = document.createElement('div');\n",
              "        docLink.innerHTML = docLinkHtml;\n",
              "        element.appendChild(docLink);\n",
              "      }\n",
              "    </script>\n",
              "  </div>\n",
              "\n",
              "\n",
              "<div id=\"df-df42a638-bc2c-4f89-8309-081ba65b4467\">\n",
              "  <button class=\"colab-df-quickchart\" onclick=\"quickchart('df-df42a638-bc2c-4f89-8309-081ba65b4467')\"\n",
              "            title=\"Suggest charts.\"\n",
              "            style=\"display:none;\">\n",
              "\n",
              "<svg xmlns=\"http://www.w3.org/2000/svg\" height=\"24px\"viewBox=\"0 0 24 24\"\n",
              "     width=\"24px\">\n",
              "    <g>\n",
              "        <path d=\"M19 3H5c-1.1 0-2 .9-2 2v14c0 1.1.9 2 2 2h14c1.1 0 2-.9 2-2V5c0-1.1-.9-2-2-2zM9 17H7v-7h2v7zm4 0h-2V7h2v10zm4 0h-2v-4h2v4z\"/>\n",
              "    </g>\n",
              "</svg>\n",
              "  </button>\n",
              "\n",
              "<style>\n",
              "  .colab-df-quickchart {\n",
              "      --bg-color: #E8F0FE;\n",
              "      --fill-color: #1967D2;\n",
              "      --hover-bg-color: #E2EBFA;\n",
              "      --hover-fill-color: #174EA6;\n",
              "      --disabled-fill-color: #AAA;\n",
              "      --disabled-bg-color: #DDD;\n",
              "  }\n",
              "\n",
              "  [theme=dark] .colab-df-quickchart {\n",
              "      --bg-color: #3B4455;\n",
              "      --fill-color: #D2E3FC;\n",
              "      --hover-bg-color: #434B5C;\n",
              "      --hover-fill-color: #FFFFFF;\n",
              "      --disabled-bg-color: #3B4455;\n",
              "      --disabled-fill-color: #666;\n",
              "  }\n",
              "\n",
              "  .colab-df-quickchart {\n",
              "    background-color: var(--bg-color);\n",
              "    border: none;\n",
              "    border-radius: 50%;\n",
              "    cursor: pointer;\n",
              "    display: none;\n",
              "    fill: var(--fill-color);\n",
              "    height: 32px;\n",
              "    padding: 0;\n",
              "    width: 32px;\n",
              "  }\n",
              "\n",
              "  .colab-df-quickchart:hover {\n",
              "    background-color: var(--hover-bg-color);\n",
              "    box-shadow: 0 1px 2px rgba(60, 64, 67, 0.3), 0 1px 3px 1px rgba(60, 64, 67, 0.15);\n",
              "    fill: var(--button-hover-fill-color);\n",
              "  }\n",
              "\n",
              "  .colab-df-quickchart-complete:disabled,\n",
              "  .colab-df-quickchart-complete:disabled:hover {\n",
              "    background-color: var(--disabled-bg-color);\n",
              "    fill: var(--disabled-fill-color);\n",
              "    box-shadow: none;\n",
              "  }\n",
              "\n",
              "  .colab-df-spinner {\n",
              "    border: 2px solid var(--fill-color);\n",
              "    border-color: transparent;\n",
              "    border-bottom-color: var(--fill-color);\n",
              "    animation:\n",
              "      spin 1s steps(1) infinite;\n",
              "  }\n",
              "\n",
              "  @keyframes spin {\n",
              "    0% {\n",
              "      border-color: transparent;\n",
              "      border-bottom-color: var(--fill-color);\n",
              "      border-left-color: var(--fill-color);\n",
              "    }\n",
              "    20% {\n",
              "      border-color: transparent;\n",
              "      border-left-color: var(--fill-color);\n",
              "      border-top-color: var(--fill-color);\n",
              "    }\n",
              "    30% {\n",
              "      border-color: transparent;\n",
              "      border-left-color: var(--fill-color);\n",
              "      border-top-color: var(--fill-color);\n",
              "      border-right-color: var(--fill-color);\n",
              "    }\n",
              "    40% {\n",
              "      border-color: transparent;\n",
              "      border-right-color: var(--fill-color);\n",
              "      border-top-color: var(--fill-color);\n",
              "    }\n",
              "    60% {\n",
              "      border-color: transparent;\n",
              "      border-right-color: var(--fill-color);\n",
              "    }\n",
              "    80% {\n",
              "      border-color: transparent;\n",
              "      border-right-color: var(--fill-color);\n",
              "      border-bottom-color: var(--fill-color);\n",
              "    }\n",
              "    90% {\n",
              "      border-color: transparent;\n",
              "      border-bottom-color: var(--fill-color);\n",
              "    }\n",
              "  }\n",
              "</style>\n",
              "\n",
              "  <script>\n",
              "    async function quickchart(key) {\n",
              "      const quickchartButtonEl =\n",
              "        document.querySelector('#' + key + ' button');\n",
              "      quickchartButtonEl.disabled = true;  // To prevent multiple clicks.\n",
              "      quickchartButtonEl.classList.add('colab-df-spinner');\n",
              "      try {\n",
              "        const charts = await google.colab.kernel.invokeFunction(\n",
              "            'suggestCharts', [key], {});\n",
              "      } catch (error) {\n",
              "        console.error('Error during call to suggestCharts:', error);\n",
              "      }\n",
              "      quickchartButtonEl.classList.remove('colab-df-spinner');\n",
              "      quickchartButtonEl.classList.add('colab-df-quickchart-complete');\n",
              "    }\n",
              "    (() => {\n",
              "      let quickchartButtonEl =\n",
              "        document.querySelector('#df-df42a638-bc2c-4f89-8309-081ba65b4467 button');\n",
              "      quickchartButtonEl.style.display =\n",
              "        google.colab.kernel.accessAllowed ? 'block' : 'none';\n",
              "    })();\n",
              "  </script>\n",
              "</div>\n",
              "    </div>\n",
              "  </div>\n"
            ]
          },
          "metadata": {},
          "execution_count": 143
        }
      ]
    },
    {
      "cell_type": "code",
      "source": [
        "# Convert the 'Date' column to a datetime index\n",
        "Prices['Date'] = pd.to_datetime(Prices.index)\n",
        "Prices.set_index('Date', inplace=True)\n",
        "\n",
        "# Calculate the monthly returns\n",
        "monthly_returns = Prices.resample('M').ffill().pct_change()"
      ],
      "metadata": {
        "id": "8Q9fd4tnVQJL"
      },
      "execution_count": 144,
      "outputs": []
    },
    {
      "cell_type": "code",
      "source": [
        "# Calculate daily returns\n",
        "returns = Prices.pct_change().dropna()"
      ],
      "metadata": {
        "id": "VqeH6QM3AwJJ"
      },
      "execution_count": 145,
      "outputs": []
    },
    {
      "cell_type": "code",
      "source": [
        "dates = {'date': Prices.index.values}\n",
        "dates = pd.DataFrame(dates)\n",
        "\n",
        "dates['date'] = pd.to_datetime(dates['date'])\n",
        "\n",
        "dates['year_month'] = dates['date'].dt.to_period('M')"
      ],
      "metadata": {
        "id": "c1scIKluTdPd"
      },
      "execution_count": 146,
      "outputs": []
    },
    {
      "cell_type": "code",
      "source": [
        "returns['YEAR_MONTH'] = dates['year_month'].values[1:]\n",
        "Prices['YEAR_MONTH'] = dates['year_month'].values\n",
        "monthly_returns['YEAR_MONTH'] = returns['YEAR_MONTH'].unique()"
      ],
      "metadata": {
        "id": "KqwXBdJ6CU_l"
      },
      "execution_count": 147,
      "outputs": []
    },
    {
      "cell_type": "code",
      "source": [
        "Months = returns['YEAR_MONTH'].unique()\n",
        "Months"
      ],
      "metadata": {
        "colab": {
          "base_uri": "https://localhost:8080/",
          "height": 0
        },
        "id": "4o2PkXuIEG6A",
        "outputId": "8b144955-73d5-42c3-ea83-7f41fb2405aa"
      },
      "execution_count": 148,
      "outputs": [
        {
          "output_type": "execute_result",
          "data": {
            "text/plain": [
              "<PeriodArray>\n",
              "['2010-01', '2010-02', '2010-03', '2010-04', '2010-05', '2010-06', '2010-07',\n",
              " '2010-08', '2010-09', '2010-10',\n",
              " ...\n",
              " '2019-03', '2019-04', '2019-05', '2019-06', '2019-07', '2019-08', '2019-09',\n",
              " '2019-10', '2019-11', '2019-12']\n",
              "Length: 120, dtype: period[M]"
            ]
          },
          "metadata": {},
          "execution_count": 148
        }
      ]
    },
    {
      "cell_type": "markdown",
      "source": [
        "## Table of Contents\n",
        "- [1. Modern Portfolio Theory](#section-1)\n",
        "- [2. Mean-Variance Optimization](#section-2)\n",
        "  - [2.1 Minimum Variance](#subsection-2-1)\n",
        "  - [2.2 Maximum Sharpe Ratio](#subsection-2-1)\n",
        "  - [2.3 Efficient Frontier](#subsection-2-1)\n",
        "\n",
        "- [3. Cointegration Approach: Annual Cointegration and Stop-Loss Implementation](#section-3)\n",
        "  - [3.1 Identifying Cointegrating Pairs Annually](#subsection-3-1)\n",
        "  - [3.2 Calculating Strategy Returns and Implementing a Stop-loss](#subsection-3-2)\n",
        "  - [3.3 Performance and Analysis](#subsection-3-3)"
      ],
      "metadata": {
        "id": "WMJa-Rdur8Tb"
      }
    },
    {
      "cell_type": "markdown",
      "source": [
        "## 1 Modern Portfolio Theory\n",
        "Modern Portfolio Theory (MPT) is a foundational concept in finance developed by Harry Markowitz in the 1950s. It provides a framework for optimizing investment portfolios by considering the trade-off between risk and return. Here's a summary of Modern Portfolio Theory:\n",
        "\n",
        "**Key Concepts:**\n",
        "\n",
        "1. **Diversification:** MPT emphasizes the benefits of diversifying investments across a mix of assets rather than concentrating in a single asset. Diversification can reduce portfolio risk while maintaining or enhancing returns.\n",
        "\n",
        "2. **Risk and Return Relationship:** MPT recognizes that investors seek to maximize returns while minimizing risk. It defines risk as the volatility or standard deviation of an asset's returns and suggests that investors can achieve higher expected returns by accepting more risk.\n",
        "\n",
        "3. **Efficient Frontier:** MPT introduces the concept of the efficient frontier, a set of portfolios that offer the highest expected return for a given level of risk or the lowest risk for a given level of return. Portfolios on the efficient frontier are considered optimal.\n",
        "\n",
        "4. **Mean-Variance Optimization (MVO):** MPT's cornerstone is MVO, which aims to find the optimal portfolio by considering the expected returns and covariances of assets. MVO seeks the portfolio that maximizes return or minimizes risk, given an investor's risk tolerance.\n",
        "\n",
        "5. **Asset Correlations:** MPT acknowledges that the correlation and covariance between asset returns play a crucial role in determining portfolio risk. Negative or low correlations between assets enhance diversification benefits.\n",
        "\n"
      ],
      "metadata": {
        "id": "zVACxvjctlaR"
      }
    },
    {
      "cell_type": "markdown",
      "source": [
        "## 2 Mean-Variance Optimization\n",
        "In mean-variance optimization, we measure risk as the variance of the portfolio returns and the return to be the expected portfolio return. The objective is to maximize the expected return while minimizing the volatility of return.\n",
        "\n",
        "**Key Concepts:**\n",
        "\n",
        "1. **Expected Return (Mean):** MVO starts by estimating the expected return for each asset in the portfolio. This represents the average or most likely return an investor can expect to earn from each asset.\n",
        "\n",
        "2. **Risk (Variance or Standard Deviation):** MVO quantifies risk as the variance or standard deviation of returns for each asset. Higher risk assets have greater variability in returns.\n",
        "\n",
        "3. **Covariance Matrix:** MVO considers the relationships between asset returns by calculating the covariance between pairs of assets. A positive covariance indicates that assets tend to move in the same direction, while a negative covariance suggests they move in opposite directions."
      ],
      "metadata": {
        "id": "BVPgT7gM4ZRx"
      }
    },
    {
      "cell_type": "markdown",
      "source": [
        "### 2.1 Minimium Variance Portfolio\n",
        "The Minimum Variance Portfolio (MVP) is a specific portfolio within the context of Modern Portfolio Theory (MPT). It is a portfolio that is constructed to minimize the overall portfolio variance, or equivalently, the portfolio's standard deviation. The MVP represents the portfolio with the lowest possible level of risk for a given set of assets or asset classes.\n",
        "\n",
        "Key characteristics of the Minimum Variance Portfolio include:\n",
        "\n",
        "1. **Risk Minimization:** The primary objective of the MVP is to minimize portfolio risk. It seeks to achieve the lowest possible level of volatility or standard deviation of returns.\n",
        "\n",
        "2. **Diversification:** The MVP typically achieves its risk reduction through diversification. By allocating investments across different assets with low or negative correlations, it reduces the portfolio's sensitivity to the price movements of any single asset.\n",
        "\n",
        "3. **Efficient Frontier:** The MVP is one point on the Efficient Frontier, a curve that represents all possible portfolios that offer the highest expected return for a given level of risk or the lowest risk for a given level of expected return. The Efficient Frontier is derived from Mean-Variance Optimization (MVO), which considers the trade-off between risk and return.\n",
        "\n",
        "4. **Weighting Scheme:** The asset allocation or weighting of assets in the MVP depends on the covariance matrix of asset returns. The assets with lower correlations and lower individual volatilities will typically receive higher allocations in the MVP.\n",
        "\n",
        "6. **Risk-Return Trade-Off:** While the MVP minimizes risk, it may not offer the highest expected return. The MVP is considered the portfolio of choice for extremely risk-averse investors who prioritize capital preservation over return maximization.\n",
        "\n",
        "It's important to note that the Minimum Variance Portfolio is just one point on the Efficient Frontier, and investors may choose portfolios that lie on the Efficient Frontier based on their individual risk tolerance and return objectives. The trade-off between risk and return is a central concept in portfolio management, and the MVP represents the extreme end of risk minimization within the context of MPT."
      ],
      "metadata": {
        "id": "sDhGRoX09Lcq"
      }
    },
    {
      "cell_type": "code",
      "source": [
        "# Define an optimization function to minimize portfolio variance\n",
        "def objective(weights):\n",
        "    portfolio_variance = np.dot(weights.T, np.dot(cov_matrix, weights))\n",
        "    return portfolio_variance"
      ],
      "metadata": {
        "id": "-MRBHPYO7PJa"
      },
      "execution_count": null,
      "outputs": []
    },
    {
      "cell_type": "code",
      "source": [
        "for month in Months[12:]:\n",
        "\n",
        "  training_months = Months[ (Months < month) & (Months > month-13)]\n",
        "\n",
        "  returns_training = returns[returns['YEAR_MONTH'].isin(training_months)]\n",
        "\n",
        "  # Calculate the covariance matrix of returns\n",
        "  cov_matrix = returns_training.cov()\n",
        "\n",
        "  # Calculate the mean returns for each stock\n",
        "  mean_returns = returns_training.mean()\n",
        "\n",
        "  # Number of assets (stocks)\n",
        "  num_assets = len(mean_returns)\n",
        "\n",
        "  # Define an array of equal initial weights for the portfolio\n",
        "  initial_weights = np.ones(num_assets) / num_assets\n",
        "\n",
        "  # Set constraints for the optimization (sum of weights must equal 1)\n",
        "  constraints = ({'type': 'eq', 'fun': lambda weights: np.sum(weights) - 1})\n",
        "\n",
        "  # Set bounds for the weights (0 <= weight <= 1)\n",
        "  bounds = tuple((0, 1) for asset in range(num_assets))\n",
        "\n",
        "  # Run the optimization to find minimum variance portfolio weights\n",
        "  result = minimize(objective, initial_weights, method='SLSQP', bounds=bounds, constraints=constraints)\n",
        "\n",
        "  # Extract the optimized weights\n",
        "  optimal_weights = result.x\n",
        "\n",
        "  strategy1_returns.loc[month]['returns'] = (optimal_weights * monthly_returns[monthly_returns['YEAR_MONTH'] == month].iloc[:,:-1]).sum(axis=1)"
      ],
      "metadata": {
        "id": "Tnu6qzPl4E7v"
      },
      "execution_count": null,
      "outputs": []
    },
    {
      "cell_type": "code",
      "source": [
        "strategy1_returns_cum = strategy1_returns.astype(float)\n",
        "\n",
        "strategy1_returns_cum = (1 + strategy1_returns_cum['returns']).cumprod() - 1\n",
        "\n",
        "equal_weight_returns =  monthly_returns[12:].sum(axis=1)/num_assets\n",
        "\n",
        "equal_weight_returns = (1 + equal_weight_returns).cumprod() - 1"
      ],
      "metadata": {
        "colab": {
          "base_uri": "https://localhost:8080/",
          "height": 0
        },
        "id": "-2KzZNQX_aCe",
        "outputId": "ecdd450f-8802-447e-e9d1-48f66faba1c3"
      },
      "execution_count": 160,
      "outputs": [
        {
          "output_type": "stream",
          "name": "stderr",
          "text": [
            "<ipython-input-160-b08ff186125d>:5: FutureWarning: Dropping of nuisance columns in DataFrame reductions (with 'numeric_only=None') is deprecated; in a future version this will raise TypeError.  Select only valid columns before calling the reduction.\n",
            "  equal_weight_returns =  monthly_returns[12:].sum(axis=1)/num_assets\n"
          ]
        }
      ]
    },
    {
      "cell_type": "code",
      "source": [
        "# Plot the returns against the year and month\n",
        "plt.figure(figsize=(10, 6))\n",
        "plt.plot(strategy1_returns_cum.index.to_timestamp(), strategy1_returns_cum, linestyle='-', label='Minimum Variance Portfolio', color='green')\n",
        "plt.plot(strategy1_returns_cum.index.to_timestamp(), equal_weight_returns, color='blue', label='Equal Weighting')\n",
        "plt.xlabel('Year and Month')\n",
        "plt.ylabel('Returns')\n",
        "plt.title('Returns Over Time')\n",
        "plt.grid(True)\n",
        "plt.xticks(rotation=45)\n",
        "plt.tight_layout()\n",
        "plt.legend(loc='upper left')\n",
        "plt.show()"
      ],
      "metadata": {
        "colab": {
          "base_uri": "https://localhost:8080/",
          "height": 607
        },
        "id": "aJVA3vfk8a4T",
        "outputId": "aecadae2-f8bc-4adf-9004-cff2e7158d68"
      },
      "execution_count": 165,
      "outputs": [
        {
          "output_type": "display_data",
          "data": {
            "text/plain": [
              "<Figure size 1000x600 with 1 Axes>"
            ],
            "image/png": "[encoded data removed]"
          },
          "metadata": {}
        }
      ]
    },
    {
      "cell_type": "markdown",
      "source": [
        "### 2.2 Maximum Sharpe Ratio"
      ],
      "metadata": {
        "id": "M3SBnlrB9OIx"
      }
    },
    {
      "cell_type": "markdown",
      "source": [
        "### 2.3 Efficient Portfolio Frontier"
      ],
      "metadata": {
        "id": "5dU6o7lu9SQt"
      }
    },
    {
      "cell_type": "markdown",
      "source": [
        "## Categorising into K groups and Portfolio Optimisation of each group\n",
        "\n",
        "## Kalman Filter for mean-variance optimisation\n",
        "\n",
        "## Dynamic Asset Allocation - adjust risk appetite based on economic signals\n",
        "\n",
        "## Estimating Covariance matrix better - Kalman Filters\n",
        "\n",
        "## Using DCC: Dynamic Conditional Correlation Models\n",
        "\n",
        "## Covariance Matrix: PCA\n",
        "\n",
        "## Comparison of twitter sp500 sentiment index and realised value (only available after 2018)"
      ],
      "metadata": {
        "id": "cl85karEqZ3S"
      }
    }
  ]
}